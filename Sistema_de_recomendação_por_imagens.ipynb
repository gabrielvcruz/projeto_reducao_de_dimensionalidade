{
  "nbformat": 4,
  "nbformat_minor": 0,
  "metadata": {
    "colab": {
      "provenance": [],
      "authorship_tag": "ABX9TyOsPUMsWEsH2v+YZ5NOYOly",
      "include_colab_link": true
    },
    "kernelspec": {
      "name": "python3",
      "display_name": "Python 3"
    },
    "language_info": {
      "name": "python"
    }
  },
  "cells": [
    {
      "cell_type": "markdown",
      "metadata": {
        "id": "view-in-github",
        "colab_type": "text"
      },
      "source": [
        "<a href=\"https://colab.research.google.com/github/gabrielvcruz/projeto_reducao_de_dimensionalidade/blob/main/Sistema_de_recomenda%C3%A7%C3%A3o_por_imagens.ipynb\" target=\"_parent\"><img src=\"https://colab.research.google.com/assets/colab-badge.svg\" alt=\"Open In Colab\"/></a>"
      ]
    },
    {
      "cell_type": "code",
      "execution_count": null,
      "metadata": {
        "id": "xSmg02Euu26S"
      },
      "outputs": [],
      "source": [
        "\n",
        "!pip install tensorflow matplotlib scikit-learn\n",
        "\n",
        "# Importar bibliotecas\n",
        "import tensorflow as tf\n",
        "from tensorflow.keras.applications import MobileNetV2\n",
        "from tensorflow.keras.preprocessing import image\n",
        "from tensorflow.keras.applications.mobilenet_v2 import preprocess_input\n",
        "import numpy as np\n",
        "import os\n",
        "import matplotlib.pyplot as plt\n",
        "from sklearn.metrics.pairwise import cosine_similarity\n",
        "from tensorflow.keras.datasets import fashion_mnist\n",
        "\n",
        "# Carregar o dataset Fashion MNIST\n",
        "(x_train, y_train), (x_test, y_test) = fashion_mnist.load_data()\n",
        "\n",
        "# Normalizar as imagens\n",
        "x_train = x_train.astype('float32') / 255.0\n",
        "x_test = x_test.astype('float32') / 255.0\n",
        "\n",
        "# Exibir algumas imagens do dataset\n",
        "plt.figure(figsize=(10, 10))\n",
        "for i in range(9):\n",
        "    plt.subplot(3, 3, i + 1)\n",
        "    plt.imshow(x_train[i], cmap='gray')\n",
        "    plt.axis('off')\n",
        "plt.show()\n",
        "\n",
        "# Carregar o modelo MobileNetV2 pré-treinado\n",
        "base_model = MobileNetV2(weights='imagenet', include_top=False, pooling='avg')\n",
        "\n",
        "# Função para extrair embedding\n",
        "def extract_embedding(img_array):\n",
        "    img_array = np.expand_dims(img_array, axis=0)\n",
        "    img_array = preprocess_input(img_array)\n",
        "    embedding = base_model.predict(img_array)\n",
        "    return embedding.flatten()\n",
        "\n",
        "# Extrair embeddings para as imagens de treino e teste\n",
        "train_embeddings = np.array([extract_embedding(x) for x in x_train])\n",
        "test_embeddings = np.array([extract_embedding(x) for x in x_test])\n",
        "\n",
        "print(\"Shape dos embeddings:\", train_embeddings.shape)\n",
        "\n",
        "# Função para recomendar imagens semelhantes\n",
        "def recommend_similar_images(query_img, top_n=5):\n",
        "    # Extrair o embedding da imagem de consulta\n",
        "    query_embedding = extract_embedding(query_img)\n",
        "\n",
        "    # Calcular a similaridade cosseno entre a imagem de consulta e todas as outras\n",
        "    similarities = cosine_similarity([query_embedding], train_embeddings)\n",
        "\n",
        "    # Obter as top_n imagens mais similares\n",
        "    similar_indices = similarities.argsort()[0][-top_n:]\n",
        "\n",
        "    # Exibir as imagens mais similares\n",
        "    plt.figure(figsize=(10, 5))\n",
        "    for i, idx in enumerate(similar_indices):\n",
        "        plt.subplot(1, top_n, i + 1)\n",
        "        plt.imshow(x_train[idx], cmap='gray')\n",
        "        plt.axis('off')\n",
        "    plt.show()\n",
        "\n",
        "# Testar com uma imagem de consulta\n",
        "recommend_similar_images(x_train[0], top_n=5)\n"
      ]
    }
  ]
}